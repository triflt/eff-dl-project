{
 "cells": [
  {
   "cell_type": "code",
   "execution_count": 1,
   "id": "ad1acb9a",
   "metadata": {},
   "outputs": [],
   "source": [
    "%load_ext autoreload\n",
    "%autoreload 2"
   ]
  },
  {
   "cell_type": "code",
   "execution_count": 2,
   "id": "79eb19d4",
   "metadata": {},
   "outputs": [],
   "source": [
    "import torch\n",
    "import torch.nn as nn\n",
    "import torch.optim as optim\n",
    "import torch.nn.functional as F\n",
    "\n",
    "from main2 import get_mnist, QALinear, train, test, LinearInt"
   ]
  },
  {
   "cell_type": "code",
   "execution_count": 3,
   "id": "18f305a3",
   "metadata": {},
   "outputs": [],
   "source": [
    "train_loader = get_mnist(batch_size=64, train=True)\n",
    "test_loader = get_mnist(batch_size=128, train=False)"
   ]
  },
  {
   "cell_type": "code",
   "execution_count": 4,
   "id": "c7f7b018",
   "metadata": {},
   "outputs": [],
   "source": [
    "class Model(nn.Module):\n",
    "    def __init__(self, bits=8):\n",
    "        super(Model, self).__init__()\n",
    "        self.fc1 = QALinear(28*28, 256, bit=bits)\n",
    "        self.fc2 = QALinear(256, 10, bit=bits, only_positive_activations=True)\n",
    "\n",
    "    def forward(self, x):\n",
    "        x = x.view(-1, 28*28)\n",
    "        x = torch.relu(self.fc1(x))\n",
    "        x = self.fc2(x)\n",
    "        return x\n",
    "\n",
    "    def quantize(self, int_dtype):\n",
    "        new_model = Model()\n",
    "        new_model.fc1 = LinearInt.from_quantized(self.fc1, int_dtype)\n",
    "        new_model.fc2 = LinearInt.from_quantized(self.fc2, int_dtype)\n",
    "        return new_model"
   ]
  },
  {
   "cell_type": "code",
   "execution_count": 5,
   "id": "8a51b3cc",
   "metadata": {},
   "outputs": [],
   "source": [
    "model = Model().cuda()"
   ]
  },
  {
   "cell_type": "code",
   "execution_count": 6,
   "id": "ed79e230",
   "metadata": {},
   "outputs": [
    {
     "name": "stdout",
     "output_type": "stream",
     "text": [
      "Train Epoch: 1 [0/60000 (0%)]\tLoss: 2.366026\n",
      "Train Epoch: 1 [32000/60000 (53%)]\tLoss: 0.146022\n"
     ]
    }
   ],
   "source": [
    "epochs = 1\n",
    "criterion = nn.CrossEntropyLoss()\n",
    "optimizer = optim.AdamW(model.parameters(), lr=0.001)\n",
    "loss_fn = nn.CrossEntropyLoss()\n",
    "for epoch in range(1, epochs + 1):\n",
    "    train(\n",
    "        model,\n",
    "        epoch,\n",
    "        loss_fn,\n",
    "        optimizer,\n",
    "        train_loader,\n",
    "        use_cuda=True,\n",
    "        log_interval=500,\n",
    "    )"
   ]
  },
  {
   "cell_type": "code",
   "execution_count": 7,
   "id": "a0622dd0",
   "metadata": {},
   "outputs": [
    {
     "name": "stdout",
     "output_type": "stream",
     "text": [
      "\n",
      "Test set: Average loss: 0.0010, Accuracy: 9616/10000 (96%)\n",
      "\n"
     ]
    },
    {
     "data": {
      "text/plain": [
       "tensor(96.1600)"
      ]
     },
     "execution_count": 7,
     "metadata": {},
     "output_type": "execute_result"
    }
   ],
   "source": [
    "test(model, loss_fn, None, test_loader, use_cuda=True)"
   ]
  },
  {
   "cell_type": "code",
   "execution_count": 8,
   "id": "cde92cd7",
   "metadata": {},
   "outputs": [
    {
     "name": "stdout",
     "output_type": "stream",
     "text": [
      "\n",
      "Test set: Average loss: 0.0040, Accuracy: 8984/10000 (90%)\n",
      "\n"
     ]
    },
    {
     "data": {
      "text/plain": [
       "tensor(89.8400)"
      ]
     },
     "execution_count": 8,
     "metadata": {},
     "output_type": "execute_result"
    }
   ],
   "source": [
    "quantized_model = model.quantize(torch.int16).to('cpu')\n",
    "test(quantized_model, loss_fn, None, test_loader, use_cuda=False)"
   ]
  },
  {
   "cell_type": "code",
   "execution_count": 9,
   "id": "bedee7ec",
   "metadata": {},
   "outputs": [
    {
     "name": "stdout",
     "output_type": "stream",
     "text": [
      "\n",
      "Test set: Average loss: 0.0182, Accuracy: 992/10000 (10%)\n",
      "\n"
     ]
    },
    {
     "data": {
      "text/plain": [
       "tensor(9.9200)"
      ]
     },
     "execution_count": 9,
     "metadata": {},
     "output_type": "execute_result"
    }
   ],
   "source": [
    "quantized_model = model.quantize(torch.int8).to('cpu')\n",
    "test(quantized_model, loss_fn, None, test_loader, use_cuda=False)"
   ]
  },
  {
   "cell_type": "code",
   "execution_count": null,
   "id": "463304eb",
   "metadata": {},
   "outputs": [],
   "source": []
  },
  {
   "cell_type": "code",
   "execution_count": null,
   "id": "24a34360",
   "metadata": {},
   "outputs": [],
   "source": []
  },
  {
   "cell_type": "code",
   "execution_count": null,
   "id": "235ad05a",
   "metadata": {},
   "outputs": [],
   "source": []
  },
  {
   "cell_type": "markdown",
   "id": "96f59328",
   "metadata": {},
   "source": [
    "# OVERFLOW"
   ]
  },
  {
   "cell_type": "code",
   "execution_count": 10,
   "id": "1a1190b4",
   "metadata": {},
   "outputs": [],
   "source": [
    "def toi(t, i='8'):\n",
    "    if i == '8':\n",
    "        return t.to(torch.int8).to('cpu')\n",
    "    elif i == '16':\n",
    "        return t.to(torch.int16).to('cpu')\n",
    "    elif i == '32':\n",
    "        return t.to(torch.int32).to('cpu')\n",
    "    assert 0"
   ]
  },
  {
   "cell_type": "code",
   "execution_count": 11,
   "id": "8ab9fc05",
   "metadata": {},
   "outputs": [],
   "source": [
    "test_inp = next(iter(test_loader))\n",
    "test_x, test_y = test_inp"
   ]
  },
  {
   "cell_type": "code",
   "execution_count": 12,
   "id": "8644a58f",
   "metadata": {},
   "outputs": [],
   "source": [
    "a1 = test_x.view(-1, 28*28)\n",
    "w1 = model.fc1.fc.weight\n",
    "b1 = model.fc1.fc.bias"
   ]
  },
  {
   "cell_type": "code",
   "execution_count": 13,
   "id": "58295065",
   "metadata": {},
   "outputs": [],
   "source": [
    "qa1, a1s = model.fc1.quantizer_act(a1)\n",
    "dqa1 = qa1 * a1s"
   ]
  },
  {
   "cell_type": "code",
   "execution_count": 14,
   "id": "1fa66128",
   "metadata": {},
   "outputs": [],
   "source": [
    "qw1, w1s = model.fc1.quantizer_weigh(w1)\n",
    "dqw1 = qw1 * w1s"
   ]
  },
  {
   "cell_type": "code",
   "execution_count": 15,
   "id": "80b7d501",
   "metadata": {},
   "outputs": [
    {
     "data": {
      "text/plain": [
       "tensor([[ 0.0427,  0.7478, -0.2351,  ...,  0.0679,  0.5372, -0.5603],\n",
       "        [ 0.4999,  0.0721, -0.3170,  ..., -0.3757,  0.2028, -0.6081],\n",
       "        [-0.1825,  0.6113,  0.5771,  ..., -0.6965, -0.8550,  0.6886],\n",
       "        ...,\n",
       "        [-0.1143, -0.2828,  0.6385,  ..., -0.4235, -0.8482, -0.5603],\n",
       "        [ 0.5887, -0.6649,  0.5634,  ...,  0.8186, -0.3841, -0.6763],\n",
       "        [ 0.6978, -0.8697,  0.7613,  ..., -0.5736,  0.5031, -0.1303]],\n",
       "       grad_fn=<AddBackward0>)"
      ]
     },
     "execution_count": 15,
     "metadata": {},
     "output_type": "execute_result"
    }
   ],
   "source": [
    "# int8 dequantized\n",
    "a1s.cpu() * w1s.cpu() * F.linear(toi(qa1), toi(qw1), None) + b1.cpu()"
   ]
  },
  {
   "cell_type": "code",
   "execution_count": 16,
   "id": "077089de",
   "metadata": {},
   "outputs": [
    {
     "data": {
      "text/plain": [
       "tensor([[-3.4515,  2.4949, -0.2351,  ..., -3.4263, -1.2099,  8.1752],\n",
       "        [-6.4885, -1.6750, -0.3170,  ...,  4.8656, -1.5443, 11.6217],\n",
       "        [-3.6767, -1.1358, -2.9171,  ...,  1.0506, -2.6021,  9.4241],\n",
       "        ...,\n",
       "        [-3.6085, -5.5241, -6.3499,  ...,  1.3236, -9.5837, 11.6694],\n",
       "        [-2.9056,  6.3235,  2.3105,  ..., -2.6756,  3.1101,  4.5650],\n",
       "        [-4.5435, -0.8697,  0.7613,  ...,  4.6677, -2.9911,  8.6052]],\n",
       "       grad_fn=<AddBackward0>)"
      ]
     },
     "execution_count": 16,
     "metadata": {},
     "output_type": "execute_result"
    }
   ],
   "source": [
    "# int16 dequantized\n",
    "a1s.cpu() * w1s.cpu() * F.linear(toi(qa1, '16'), toi(qw1, '16'), None) + b1.cpu()"
   ]
  },
  {
   "cell_type": "code",
   "execution_count": 17,
   "id": "07963f8d",
   "metadata": {},
   "outputs": [
    {
     "data": {
      "text/plain": [
       "tensor([[-3.4515,  2.4949, -0.2351,  ..., -3.4263, -1.2099,  8.1752],\n",
       "        [-6.4885, -1.6750, -0.3170,  ...,  4.8656, -1.5443, 11.6217],\n",
       "        [-3.6767, -1.1358, -2.9171,  ...,  1.0506, -2.6021,  9.4241],\n",
       "        ...,\n",
       "        [-3.6085, -5.5241, -6.3499,  ...,  1.3236, -9.5837, 11.6694],\n",
       "        [-2.9056,  6.3235,  2.3105,  ..., -2.6756,  3.1101,  4.5650],\n",
       "        [-4.5435, -0.8697,  0.7613,  ...,  4.6677, -2.9911,  8.6052]],\n",
       "       grad_fn=<AddBackward0>)"
      ]
     },
     "execution_count": 17,
     "metadata": {},
     "output_type": "execute_result"
    }
   ],
   "source": [
    "# fp32 dequantized\n",
    "a1s.cpu() * w1s.cpu() * F.linear(qa1.cpu(), qw1.cpu(), None) + b1.cpu()"
   ]
  },
  {
   "cell_type": "code",
   "execution_count": 18,
   "id": "1d679938",
   "metadata": {},
   "outputs": [
    {
     "data": {
      "text/plain": [
       "tensor([[  510.,  -368.,    32.,  ...,   505.,   179., -1192.],\n",
       "        [  955.,   243.,    44.,  ...,  -710.,   228., -1697.],\n",
       "        [  543.,   164.,   425.,  ...,  -151.,   383., -1375.],\n",
       "        ...,\n",
       "        [  533.,   807.,   928.,  ...,  -191.,  1406., -1704.],\n",
       "        [  430.,  -929.,  -341.,  ...,   395.,  -454.,  -663.],\n",
       "        [  670.,   125.,  -114.,  ...,  -681.,   440., -1255.]],\n",
       "       grad_fn=<MmBackward0>)"
      ]
     },
     "execution_count": 18,
     "metadata": {},
     "output_type": "execute_result"
    }
   ],
   "source": [
    "# fp32 before dequantization\n",
    "F.linear(qa1.cpu(), qw1.cpu(), bias=None)"
   ]
  },
  {
   "cell_type": "code",
   "execution_count": null,
   "id": "aafbe2c9",
   "metadata": {},
   "outputs": [],
   "source": []
  }
 ],
 "metadata": {
  "kernelspec": {
   "display_name": "Python 3",
   "language": "python",
   "name": "python3"
  },
  "language_info": {
   "codemirror_mode": {
    "name": "ipython",
    "version": 3
   },
   "file_extension": ".py",
   "mimetype": "text/x-python",
   "name": "python",
   "nbconvert_exporter": "python",
   "pygments_lexer": "ipython3",
   "version": "3.13.7"
  }
 },
 "nbformat": 4,
 "nbformat_minor": 5
}
